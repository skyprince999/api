{
 "cells": [
  {
   "cell_type": "markdown",
   "metadata": {},
   "source": [
    "[CSV file dumps](https://api.covid19india.org/csv)\n",
    "\n",
    "Approach:\n",
    "\n",
    "1. Download all the three csv files: [raw_data1.csv](https://api.covid19india.org/csv/latest/raw_data1.csv), [raw_data2.csv](https://api.covid19india.org/csv/latest/raw_data2.csv) and [raw_data3.csv](https://api.covid19india.org/csv/latest/raw_data3.csv)\n",
    "\n",
    "2. Concatenate `raw_data1.csv` & `raw_data2.csv` >> `raw_data` \n",
    "\n",
    "3. Add column `Num Cases' = `1` to the above file\n",
    "\n",
    "4. Add dummy columns `Estimated Onset Date` & `Backup Notes` to `raw_data3.csv`\n",
    "\n",
    "5. For `raw_data3.csv` keep only rows with `Current Status` == `Hospitalized`\n",
    "\n",
    "6. Concatenate `raw_data3.csv` with `raw_data`\n",
    "\n",
    "7. Save the file to csv. Filename has datestamp. "
   ]
  },
  {
   "cell_type": "code",
   "execution_count": 1,
   "metadata": {
    "_cell_guid": "b1076dfc-b9ad-4769-8c92-a6c4dae69d19",
    "_uuid": "8f2839f25d086af736a60e9eeb907d3b93b6e0e5"
   },
   "outputs": [],
   "source": [
    "import numpy as np # linear algebra\n",
    "import pandas as pd # data processing, CSV file I/O (e.g. pd.read_csv)\n",
    "import os\n",
    "import json"
   ]
  },
  {
   "cell_type": "code",
   "execution_count": 2,
   "metadata": {
    "_cell_guid": "79c7e3d0-c299-4dcb-8224-4455121ee9b0",
    "_uuid": "d629ff2d2480ee46fbb7e2d37f6b5fab8052498a"
   },
   "outputs": [
    {
     "name": "stdout",
     "output_type": "stream",
     "text": [
      "--2020-05-02 13:50:27--  https://api.covid19india.org/csv/latest/raw_data1.csv\r\n",
      "Resolving api.covid19india.org (api.covid19india.org)... 185.199.109.153, 185.199.108.153, 185.199.110.153, ...\r\n",
      "Connecting to api.covid19india.org (api.covid19india.org)|185.199.109.153|:443... connected.\r\n",
      "HTTP request sent, awaiting response... 200 OK\r\n",
      "Length: 2835015 (2.7M) [text/csv]\r\n",
      "Saving to: ‘raw_data1.csv’\r\n",
      "\r\n",
      "raw_data1.csv       100%[===================>]   2.70M  --.-KB/s    in 0.03s   \r\n",
      "\r\n",
      "2020-05-02 13:50:28 (94.3 MB/s) - ‘raw_data1.csv’ saved [2835015/2835015]\r\n",
      "\r\n",
      "--2020-05-02 13:50:28--  https://api.covid19india.org/csv/latest/raw_data2.csv\r\n",
      "Resolving api.covid19india.org (api.covid19india.org)... 185.199.111.153, 185.199.110.153, 185.199.109.153, ...\r\n",
      "Connecting to api.covid19india.org (api.covid19india.org)|185.199.111.153|:443... connected.\r\n",
      "HTTP request sent, awaiting response... 200 OK\r\n",
      "Length: 1538031 (1.5M) [text/csv]\r\n",
      "Saving to: ‘raw_data2.csv’\r\n",
      "\r\n",
      "raw_data2.csv       100%[===================>]   1.47M  --.-KB/s    in 0.03s   \r\n",
      "\r\n",
      "2020-05-02 13:50:29 (57.2 MB/s) - ‘raw_data2.csv’ saved [1538031/1538031]\r\n",
      "\r\n",
      "--2020-05-02 13:50:29--  https://api.covid19india.org/csv/latest/raw_data3.csv\r\n",
      "Resolving api.covid19india.org (api.covid19india.org)... 185.199.109.153, 185.199.108.153, 185.199.110.153, ...\r\n",
      "Connecting to api.covid19india.org (api.covid19india.org)|185.199.109.153|:443... connected.\r\n",
      "HTTP request sent, awaiting response... 200 OK\r\n",
      "Length: 408296 (399K) [text/csv]\r\n",
      "Saving to: ‘raw_data3.csv’\r\n",
      "\r\n",
      "raw_data3.csv       100%[===================>] 398.73K  --.-KB/s    in 0.02s   \r\n",
      "\r\n",
      "2020-05-02 13:50:30 (17.9 MB/s) - ‘raw_data3.csv’ saved [408296/408296]\r\n",
      "\r\n"
     ]
    }
   ],
   "source": [
    "# Get csv file & json (latest) dumps\n",
    "!wget https://api.covid19india.org/csv/latest/raw_data1.csv\n",
    "!wget https://api.covid19india.org/csv/latest/raw_data2.csv\n",
    "!wget https://api.covid19india.org/csv/latest/raw_data3.csv"
   ]
  },
  {
   "cell_type": "code",
   "execution_count": 3,
   "metadata": {},
   "outputs": [],
   "source": [
    "raw_data1 = pd.read_csv('raw_data1.csv')\n",
    "raw_data2 = pd.read_csv('raw_data2.csv')\n",
    "raw_data3 = pd.read_csv('raw_data3.csv')"
   ]
  },
  {
   "cell_type": "code",
   "execution_count": 4,
   "metadata": {},
   "outputs": [
    {
     "name": "stdout",
     "output_type": "stream",
     "text": [
      "Index(['Patient Number', 'State Patient Number', 'Date Announced',\n",
      "       'Estimated Onset Date', 'Age Bracket', 'Gender', 'Detected City',\n",
      "       'Detected District', 'Detected State', 'State code', 'Current Status',\n",
      "       'Notes', 'Contracted from which Patient (Suspected)', 'Nationality',\n",
      "       'Type of transmission', 'Status Change Date', 'Source_1', 'Source_2',\n",
      "       'Source_3', 'Backup Notes'],\n",
      "      dtype='object')\n",
      "Index(['Patient Number', 'State Patient Number', 'Date Announced',\n",
      "       'Estimated Onset Date', 'Age Bracket', 'Gender', 'Detected City',\n",
      "       'Detected District', 'Detected State', 'State code', 'Current Status',\n",
      "       'Notes', 'Contracted from which Patient (Suspected)', 'Nationality',\n",
      "       'Type of transmission', 'Status Change Date', 'Source_1', 'Source_2',\n",
      "       'Source_3', 'Backup Notes'],\n",
      "      dtype='object')\n",
      "Index(['Entry_ID', 'State Patient Number', 'Date Announced', 'Age Bracket',\n",
      "       'Gender', 'Detected City', 'Detected District', 'Detected State',\n",
      "       'State code', 'Num Cases', 'Current Status',\n",
      "       'Contracted from which Patient (Suspected)', 'Notes', 'Source_1',\n",
      "       'Source_2', 'Source_3', 'Nationality', 'Type of transmission',\n",
      "       'Status Change Date'],\n",
      "      dtype='object')\n"
     ]
    }
   ],
   "source": [
    "print(raw_data1.columns)\n",
    "print(raw_data2.columns)\n",
    "print(raw_data3.columns)"
   ]
  },
  {
   "cell_type": "code",
   "execution_count": 5,
   "metadata": {},
   "outputs": [
    {
     "data": {
      "text/plain": [
       "Hospitalized    17079\n",
       "Recovered         181\n",
       "Deceased           45\n",
       "Migrated            1\n",
       "Name: Current Status, dtype: int64"
      ]
     },
     "execution_count": 5,
     "metadata": {},
     "output_type": "execute_result"
    }
   ],
   "source": [
    "raw_data1['Current Status'].value_counts()"
   ]
  },
  {
   "cell_type": "markdown",
   "metadata": {},
   "source": [
    "> raw_data3 -> 'Estimated Onset Date', 'Backup Notes'\n",
    "\n",
    "> raw_data1 & 2 -> 'Num Cases' = 1"
   ]
  },
  {
   "cell_type": "code",
   "execution_count": 6,
   "metadata": {},
   "outputs": [],
   "source": [
    "raw_data3 = raw_data3.rename(columns ={'Entry_ID':'Patient Number'}) #Rename column name identifying patient\n",
    "raw_data3['Patient Number'] = raw_data3['Patient Number'].apply(lambda x: str(x) + \"_27APR\") \n",
    "\n",
    "raw_data3 = raw_data3[raw_data3['Current Status'] == 'Hospitalized']\n",
    "\n",
    "sum(raw_data3['Date Announced'].isnull()) # Not required since the above step removes these rows \n",
    "raw_data3.dropna(subset=['Date Announced'])\n",
    "\n",
    "#raw_data3['Date Announced'] = pd.to_datetime(raw_data3['Date Announced'], format = \"%d/%m/%Y\")\n",
    "raw_data3['Num Cases'] = raw_data3['Num Cases'].astype('float64')"
   ]
  },
  {
   "cell_type": "code",
   "execution_count": 7,
   "metadata": {},
   "outputs": [
    {
     "data": {
      "text/plain": [
       "'01/05/2020'"
      ]
     },
     "execution_count": 7,
     "metadata": {},
     "output_type": "execute_result"
    }
   ],
   "source": [
    "min(raw_data3['Date Announced'])"
   ]
  },
  {
   "cell_type": "code",
   "execution_count": 8,
   "metadata": {},
   "outputs": [
    {
     "name": "stdout",
     "output_type": "stream",
     "text": [
      "(27891, 20)\n"
     ]
    },
    {
     "data": {
      "text/html": [
       "<div>\n",
       "<style scoped>\n",
       "    .dataframe tbody tr th:only-of-type {\n",
       "        vertical-align: middle;\n",
       "    }\n",
       "\n",
       "    .dataframe tbody tr th {\n",
       "        vertical-align: top;\n",
       "    }\n",
       "\n",
       "    .dataframe thead th {\n",
       "        text-align: right;\n",
       "    }\n",
       "</style>\n",
       "<table border=\"1\" class=\"dataframe\">\n",
       "  <thead>\n",
       "    <tr style=\"text-align: right;\">\n",
       "      <th></th>\n",
       "      <th>Patient Number</th>\n",
       "      <th>State Patient Number</th>\n",
       "      <th>Date Announced</th>\n",
       "      <th>Estimated Onset Date</th>\n",
       "      <th>Age Bracket</th>\n",
       "      <th>Gender</th>\n",
       "      <th>Detected City</th>\n",
       "      <th>Detected District</th>\n",
       "      <th>Detected State</th>\n",
       "      <th>State code</th>\n",
       "      <th>Current Status</th>\n",
       "      <th>Notes</th>\n",
       "      <th>Contracted from which Patient (Suspected)</th>\n",
       "      <th>Nationality</th>\n",
       "      <th>Type of transmission</th>\n",
       "      <th>Status Change Date</th>\n",
       "      <th>Source_1</th>\n",
       "      <th>Source_2</th>\n",
       "      <th>Source_3</th>\n",
       "      <th>Backup Notes</th>\n",
       "    </tr>\n",
       "  </thead>\n",
       "  <tbody>\n",
       "    <tr>\n",
       "      <th>0</th>\n",
       "      <td>1</td>\n",
       "      <td>KL-TS-P1</td>\n",
       "      <td>30/01/2020</td>\n",
       "      <td>NaN</td>\n",
       "      <td>20</td>\n",
       "      <td>F</td>\n",
       "      <td>Thrissur</td>\n",
       "      <td>Thrissur</td>\n",
       "      <td>Kerala</td>\n",
       "      <td>KL</td>\n",
       "      <td>Recovered</td>\n",
       "      <td>Travelled from Wuhan</td>\n",
       "      <td>NaN</td>\n",
       "      <td>India</td>\n",
       "      <td>Imported</td>\n",
       "      <td>14/02/2020</td>\n",
       "      <td>https://twitter.com/vijayanpinarayi/status/122...</td>\n",
       "      <td>https://weather.com/en-IN/india/news/news/2020...</td>\n",
       "      <td>NaN</td>\n",
       "      <td>Student from Wuhan</td>\n",
       "    </tr>\n",
       "    <tr>\n",
       "      <th>1</th>\n",
       "      <td>2</td>\n",
       "      <td>KL-AL-P1</td>\n",
       "      <td>02/02/2020</td>\n",
       "      <td>NaN</td>\n",
       "      <td>NaN</td>\n",
       "      <td>NaN</td>\n",
       "      <td>Alappuzha</td>\n",
       "      <td>Alappuzha</td>\n",
       "      <td>Kerala</td>\n",
       "      <td>KL</td>\n",
       "      <td>Recovered</td>\n",
       "      <td>Travelled from Wuhan</td>\n",
       "      <td>NaN</td>\n",
       "      <td>India</td>\n",
       "      <td>Imported</td>\n",
       "      <td>14/02/2020</td>\n",
       "      <td>https://www.indiatoday.in/india/story/kerala-r...</td>\n",
       "      <td>https://weather.com/en-IN/india/news/news/2020...</td>\n",
       "      <td>NaN</td>\n",
       "      <td>Student from Wuhan</td>\n",
       "    </tr>\n",
       "    <tr>\n",
       "      <th>2</th>\n",
       "      <td>3</td>\n",
       "      <td>KL-KS-P1</td>\n",
       "      <td>03/02/2020</td>\n",
       "      <td>NaN</td>\n",
       "      <td>NaN</td>\n",
       "      <td>NaN</td>\n",
       "      <td>Kasaragod</td>\n",
       "      <td>Kasaragod</td>\n",
       "      <td>Kerala</td>\n",
       "      <td>KL</td>\n",
       "      <td>Recovered</td>\n",
       "      <td>Travelled from Wuhan</td>\n",
       "      <td>NaN</td>\n",
       "      <td>India</td>\n",
       "      <td>Imported</td>\n",
       "      <td>14/02/2020</td>\n",
       "      <td>https://www.indiatoday.in/india/story/kerala-n...</td>\n",
       "      <td>https://twitter.com/ANI/status/122422148580539...</td>\n",
       "      <td>https://weather.com/en-IN/india/news/news/2020...</td>\n",
       "      <td>Student from Wuhan</td>\n",
       "    </tr>\n",
       "    <tr>\n",
       "      <th>3</th>\n",
       "      <td>4</td>\n",
       "      <td>DL-P1</td>\n",
       "      <td>02/03/2020</td>\n",
       "      <td>NaN</td>\n",
       "      <td>45</td>\n",
       "      <td>M</td>\n",
       "      <td>East Delhi (Mayur Vihar)</td>\n",
       "      <td>East Delhi</td>\n",
       "      <td>Delhi</td>\n",
       "      <td>DL</td>\n",
       "      <td>Recovered</td>\n",
       "      <td>Travelled from Austria, Italy</td>\n",
       "      <td>NaN</td>\n",
       "      <td>India</td>\n",
       "      <td>Imported</td>\n",
       "      <td>15/03/2020</td>\n",
       "      <td>https://www.indiatoday.in/india/story/not-a-ja...</td>\n",
       "      <td>https://economictimes.indiatimes.com/news/poli...</td>\n",
       "      <td>NaN</td>\n",
       "      <td>Travel history to Italy and Austria</td>\n",
       "    </tr>\n",
       "    <tr>\n",
       "      <th>4</th>\n",
       "      <td>5</td>\n",
       "      <td>TS-P1</td>\n",
       "      <td>02/03/2020</td>\n",
       "      <td>NaN</td>\n",
       "      <td>24</td>\n",
       "      <td>M</td>\n",
       "      <td>Hyderabad</td>\n",
       "      <td>Hyderabad</td>\n",
       "      <td>Telangana</td>\n",
       "      <td>TG</td>\n",
       "      <td>Recovered</td>\n",
       "      <td>Travelled from Dubai to Bangalore on 20th Feb,...</td>\n",
       "      <td>NaN</td>\n",
       "      <td>India</td>\n",
       "      <td>Imported</td>\n",
       "      <td>02/03/2020</td>\n",
       "      <td>https://www.deccanherald.com/national/south/qu...</td>\n",
       "      <td>https://www.indiatoday.in/india/story/coronavi...</td>\n",
       "      <td>https://www.thehindu.com/news/national/coronav...</td>\n",
       "      <td>Travel history to Dubai, Singapore contact</td>\n",
       "    </tr>\n",
       "  </tbody>\n",
       "</table>\n",
       "</div>"
      ],
      "text/plain": [
       "   Patient Number State Patient Number Date Announced  Estimated Onset Date  \\\n",
       "0               1             KL-TS-P1     30/01/2020                   NaN   \n",
       "1               2             KL-AL-P1     02/02/2020                   NaN   \n",
       "2               3             KL-KS-P1     03/02/2020                   NaN   \n",
       "3               4                DL-P1     02/03/2020                   NaN   \n",
       "4               5                TS-P1     02/03/2020                   NaN   \n",
       "\n",
       "  Age Bracket Gender             Detected City Detected District  \\\n",
       "0          20      F                  Thrissur          Thrissur   \n",
       "1         NaN    NaN                 Alappuzha         Alappuzha   \n",
       "2         NaN    NaN                 Kasaragod         Kasaragod   \n",
       "3          45      M  East Delhi (Mayur Vihar)        East Delhi   \n",
       "4          24      M                 Hyderabad         Hyderabad   \n",
       "\n",
       "  Detected State State code Current Status  \\\n",
       "0         Kerala         KL      Recovered   \n",
       "1         Kerala         KL      Recovered   \n",
       "2         Kerala         KL      Recovered   \n",
       "3          Delhi         DL      Recovered   \n",
       "4      Telangana         TG      Recovered   \n",
       "\n",
       "                                               Notes  \\\n",
       "0                               Travelled from Wuhan   \n",
       "1                               Travelled from Wuhan   \n",
       "2                               Travelled from Wuhan   \n",
       "3                      Travelled from Austria, Italy   \n",
       "4  Travelled from Dubai to Bangalore on 20th Feb,...   \n",
       "\n",
       "  Contracted from which Patient (Suspected) Nationality Type of transmission  \\\n",
       "0                                       NaN       India             Imported   \n",
       "1                                       NaN       India             Imported   \n",
       "2                                       NaN       India             Imported   \n",
       "3                                       NaN       India             Imported   \n",
       "4                                       NaN       India             Imported   \n",
       "\n",
       "  Status Change Date                                           Source_1  \\\n",
       "0         14/02/2020  https://twitter.com/vijayanpinarayi/status/122...   \n",
       "1         14/02/2020  https://www.indiatoday.in/india/story/kerala-r...   \n",
       "2         14/02/2020  https://www.indiatoday.in/india/story/kerala-n...   \n",
       "3         15/03/2020  https://www.indiatoday.in/india/story/not-a-ja...   \n",
       "4         02/03/2020  https://www.deccanherald.com/national/south/qu...   \n",
       "\n",
       "                                            Source_2  \\\n",
       "0  https://weather.com/en-IN/india/news/news/2020...   \n",
       "1  https://weather.com/en-IN/india/news/news/2020...   \n",
       "2  https://twitter.com/ANI/status/122422148580539...   \n",
       "3  https://economictimes.indiatimes.com/news/poli...   \n",
       "4  https://www.indiatoday.in/india/story/coronavi...   \n",
       "\n",
       "                                            Source_3  \\\n",
       "0                                                NaN   \n",
       "1                                                NaN   \n",
       "2  https://weather.com/en-IN/india/news/news/2020...   \n",
       "3                                                NaN   \n",
       "4  https://www.thehindu.com/news/national/coronav...   \n",
       "\n",
       "                                 Backup Notes  \n",
       "0                          Student from Wuhan  \n",
       "1                          Student from Wuhan  \n",
       "2                          Student from Wuhan  \n",
       "3         Travel history to Italy and Austria  \n",
       "4  Travel history to Dubai, Singapore contact  "
      ]
     },
     "execution_count": 8,
     "metadata": {},
     "output_type": "execute_result"
    }
   ],
   "source": [
    "raw_data = pd.concat([raw_data1, raw_data2])\n",
    "print(raw_data.shape)\n",
    "raw_data.head()"
   ]
  },
  {
   "cell_type": "code",
   "execution_count": 9,
   "metadata": {},
   "outputs": [],
   "source": [
    "# Adding missing columns in raw_data & raw_data3 dataframes\n",
    "raw_data['Num Cases'] = 1\n",
    "\n",
    "raw_data3['Estimated Onset Date'] = 0 \n",
    "raw_data3['Backup Notes'] = 0"
   ]
  },
  {
   "cell_type": "code",
   "execution_count": 10,
   "metadata": {},
   "outputs": [],
   "source": [
    "raw_data3 = raw_data3[raw_data3['Current Status'] == 'Hospitalized']"
   ]
  },
  {
   "cell_type": "code",
   "execution_count": 11,
   "metadata": {},
   "outputs": [],
   "source": [
    "raw_data = pd.concat([raw_data, raw_data3])"
   ]
  },
  {
   "cell_type": "code",
   "execution_count": 12,
   "metadata": {},
   "outputs": [],
   "source": [
    "raw_data['Age Bracket'] = raw_data['Age Bracket'].apply(lambda x : 30 if str(x).__contains__('-') else x)# Around 4-5 rows have age ranges 28-35. Replacing it with 30\n",
    "raw_data['Date Announced'] = pd.to_datetime(raw_data['Date Announced'], format = \"%d/%m/%Y\")\n",
    "\n",
    "raw_data['Age Bracket'] = raw_data['Age Bracket'].astype('float64')\n",
    "raw_data['Gender'] = raw_data['Gender'].astype('category')\n",
    "raw_data['Detected City'] = raw_data['Detected City'].astype('category')\n",
    "raw_data['Detected District'] = raw_data['Detected District'].astype('category')\n",
    "raw_data['Detected State'] = raw_data['Detected State'].astype('category')\n",
    "\n",
    "raw_data['Nationality'] = raw_data['Nationality'].astype('category')\n",
    "raw_data['Type of transmission'] = raw_data['Type of transmission'].astype('category')"
   ]
  },
  {
   "cell_type": "code",
   "execution_count": 13,
   "metadata": {},
   "outputs": [
    {
     "name": "stdout",
     "output_type": "stream",
     "text": [
      "2020-01-30 00:00:00\n",
      "2020-05-02 00:00:00\n"
     ]
    }
   ],
   "source": [
    "print(min(raw_data['Date Announced']))\n",
    "print(max(raw_data['Date Announced']))"
   ]
  },
  {
   "cell_type": "code",
   "execution_count": 14,
   "metadata": {},
   "outputs": [],
   "source": [
    "from datetime import date\n",
    "\n",
    "currdate = str(date.today())\n",
    "#date.time()"
   ]
  },
  {
   "cell_type": "code",
   "execution_count": 15,
   "metadata": {},
   "outputs": [],
   "source": [
    "raw_data.to_csv(f'raw_data_{currdate}.csv')"
   ]
  },
  {
   "cell_type": "code",
   "execution_count": 16,
   "metadata": {},
   "outputs": [
    {
     "name": "stdout",
     "output_type": "stream",
     "text": [
      "__notebook__.ipynb  raw_data2.csv  raw_data_2020-05-02.csv\r\n",
      "raw_data1.csv\t    raw_data3.csv\r\n"
     ]
    }
   ],
   "source": [
    "!ls"
   ]
  },
  {
   "cell_type": "code",
   "execution_count": null,
   "metadata": {},
   "outputs": [],
   "source": []
  }
 ],
 "metadata": {
  "kernelspec": {
   "display_name": "Python 3",
   "language": "python",
   "name": "python3"
  },
  "language_info": {
   "codemirror_mode": {
    "name": "ipython",
    "version": 3
   },
   "file_extension": ".py",
   "mimetype": "text/x-python",
   "name": "python",
   "nbconvert_exporter": "python",
   "pygments_lexer": "ipython3",
   "version": "3.7.6"
  }
 },
 "nbformat": 4,
 "nbformat_minor": 4
}
